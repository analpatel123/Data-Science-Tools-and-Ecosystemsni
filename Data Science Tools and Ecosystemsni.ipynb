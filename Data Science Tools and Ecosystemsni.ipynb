{
 "cells": [
  {
   "cell_type": "markdown",
   "metadata": {},
   "source": [
    "<center>\n",
    "    <img src=\"https://cf-courses-data.s3.us.cloud-object-storage.appdomain.cloud/IBMDeveloperSkillsNetwork-DS0105EN-SkillsNetwork/labs/Module2/images/SN_web_lightmode.png\" width=\"300\" alt=\"cognitiveclass.ai logo\">\n",
    "</center>\n"
   ]
  },
  {
   "cell_type": "markdown",
   "metadata": {},
   "source": [
    "#### Add your code below following the instructions given in the course\n"
   ]
  },
  {
   "cell_type": "code",
   "execution_count": null,
   "metadata": {},
   "outputs": [],
   "source": [
    "# Data Science Tools and Ecosystemsni"
   ]
  },
  {
   "cell_type": "code",
   "execution_count": null,
   "metadata": {},
   "outputs": [],
   "source": [
    "## Introduction\n",
    "In this notebook, we will explore various **Data Science tools**, **languages**, and **libraries** used by data scientists.\n"
   ]
  },
  {
   "cell_type": "code",
   "execution_count": null,
   "metadata": {},
   "outputs": [],
   "source": [
    "## Data Science Languages\n",
    "Some popular languages used in Data Science are:\n",
    "- Python\n",
    "- R\n",
    "- SQL\n",
    "- Julia\n",
    "- Scala"
   ]
  },
  {
   "cell_type": "code",
   "execution_count": null,
   "metadata": {},
   "outputs": [],
   "source": [
    "## Data Science # Multiply and Add Numbers\n",
    "a = 5\n",
    "b = 10\n",
    "result = (a * b) + 20\n",
    "result\n",
    "\n",
    "| Tool Name       | Category         |\n",
    "|----------------|----------------|\n",
    "| Jupyter Notebook | Development Environment |\n",
    "| RStudio         | Development Environment |\n",
    "| Apache Spark    | Big Data Processing |\n",
    "| Tableau         | Data Visualization |\n",
    "| TensorFlow      | Machine Learning |"
   ]
  },
  {
   "cell_type": "code",
   "execution_count": null,
   "metadata": {},
   "outputs": [],
   "source": [
    "## Arithmetic Expressions\n",
    "Below are some examples of arithmetic expressions in Python:\n",
    "- Addition (`+`)\n",
    "- Subtraction (`-`)\n",
    "- Multiplication (`*`)\n",
    "- Division (`/`)\n",
    "- Modulus (`%`)\n",
    "- Exponentiation (`**`)\n",
    "- Floor division (`//`)"
   ]
  },
  {
   "cell_type": "code",
   "execution_count": 1,
   "metadata": {},
   "outputs": [
    {
     "data": {
      "text/plain": [
       "70"
      ]
     },
     "execution_count": 1,
     "metadata": {},
     "output_type": "execute_result"
    }
   ],
   "source": [
    "# Multiply and Add Numbers\n",
    "a = 5\n",
    "b = 10\n",
    "result = (a * b) + 20\n",
    "result"
   ]
  },
  {
   "cell_type": "code",
   "execution_count": 2,
   "metadata": {},
   "outputs": [
    {
     "data": {
      "text/plain": [
       "2.5"
      ]
     },
     "execution_count": 2,
     "metadata": {},
     "output_type": "execute_result"
    }
   ],
   "source": [
    "# Convert Minutes to Hours\n",
    "minutes = 150\n",
    "hours = minutes / 60\n",
    "hours"
   ]
  },
  {
   "cell_type": "code",
   "execution_count": null,
   "metadata": {},
   "outputs": [],
   "source": [
    "## Objectives\n",
    "- List popular Data Science languages.\n",
    "- List commonly used Data Science libraries.\n",
    "- Create a table of Data Science tools.\n",
    "- Perform simple arithmetic operations.\n",
    "- Convert minutes to hours using Python."
   ]
  },
  {
   "cell_type": "code",
   "execution_count": null,
   "metadata": {},
   "outputs": [],
   "source": [
    "## Author\n",
    "**Anal Patel**"
   ]
  }
 ],
 "metadata": {
  "kernelspec": {
   "display_name": "Python 3 (ipykernel)",
   "language": "python",
   "name": "python3"
  },
  "language_info": {
   "codemirror_mode": {
    "name": "ipython",
    "version": 3
   },
   "file_extension": ".py",
   "mimetype": "text/x-python",
   "name": "python",
   "nbconvert_exporter": "python",
   "pygments_lexer": "ipython3",
   "version": "3.12.8"
  }
 },
 "nbformat": 4,
 "nbformat_minor": 4
}
